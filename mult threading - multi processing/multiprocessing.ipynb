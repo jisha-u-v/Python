{
 "cells": [
  {
   "cell_type": "code",
   "execution_count": null,
   "id": "e4b1bd73",
   "metadata": {},
   "outputs": [],
   "source": [
    "#Multiprocessing"
   ]
  },
  {
   "cell_type": "code",
   "execution_count": null,
   "id": "5f47887b",
   "metadata": {},
   "outputs": [],
   "source": [
    "from multiprocessing import Process\n",
    "def display(my_name):\n",
    "    print('Hi !!!' + \" \" + my_name)\n",
    "if __name__ == '__main__':\n",
    "    p = Process(target=display, args=('Python'))\n",
    "    p.start()\n",
    "    p.join()"
   ]
  },
  {
   "cell_type": "code",
   "execution_count": null,
   "id": "6efe9124",
   "metadata": {},
   "outputs": [],
   "source": [
    "# calculating the square  of all the no.\n",
    "from multiprocessing import Pool\n",
    "def test(a):\n",
    "    return a*a \n",
    "\n",
    "if __name__=='__main__':\n",
    "    l1=[1,2,3,4,5,6]\n",
    "    p=Pool()  #creating object of Pool class\n",
    "    result=p.map(test,l1) #map function will divide work into multiple cores\n",
    "    print(result)\n",
    "    "
   ]
  },
  {
   "cell_type": "code",
   "execution_count": null,
   "id": "242f9fdc",
   "metadata": {},
   "outputs": [],
   "source": [
    "from multiprocessing import Pool\n",
    "import time \n",
    "def test(x):\n",
    "    sum=0\n",
    "    for i in range(10000):\n",
    "        sum=sum+i*i\n",
    "    return sum\n",
    "\n",
    "if __name__=='__main__':\n",
    "    t1=time.time() \n",
    "    p=Pool()\n",
    "    result=p.map(test,range(10000))\n",
    "    p.close()\n",
    "    p.join()\n",
    "    print('time taken by pool:',time.time()-t1)\n",
    "    \n",
    "    print('-----------------------------------')\n",
    "    \n",
    "    #2nd section\n",
    "    t2=time.time()\n",
    "    result_one=[]\n",
    "    for i in range(10000):\n",
    "        result_one.append(test(i))\n",
    "    print('normal process take :',time.time()-t2)"
   ]
  },
  {
   "cell_type": "code",
   "execution_count": null,
   "id": "e241c621",
   "metadata": {},
   "outputs": [],
   "source": [
    "2+5"
   ]
  }
 ],
 "metadata": {
  "kernelspec": {
   "display_name": "Python 3 (ipykernel)",
   "language": "python",
   "name": "python3"
  },
  "language_info": {
   "codemirror_mode": {
    "name": "ipython",
    "version": 3
   },
   "file_extension": ".py",
   "mimetype": "text/x-python",
   "name": "python",
   "nbconvert_exporter": "python",
   "pygments_lexer": "ipython3",
   "version": "3.9.7"
  }
 },
 "nbformat": 4,
 "nbformat_minor": 5
}
