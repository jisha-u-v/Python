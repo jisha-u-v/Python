{
 "cells": [
  {
   "cell_type": "code",
   "execution_count": null,
   "id": "e7c33868",
   "metadata": {},
   "outputs": [],
   "source": [
    "# Thread\n",
    "# multithreading\n",
    "# where we use multithreading\n",
    "# example of multithreading\n",
    "# talking about main thread\n",
    "# ways of creating a thread"
   ]
  },
  {
   "cell_type": "code",
   "execution_count": null,
   "id": "f010a2c0",
   "metadata": {},
   "outputs": [],
   "source": [
    "# checking main thread\n",
    "a=10\n",
    "b=5\n",
    "c=a+b\n",
    "print(c)    \n",
    "# when we execute this program internally thread is running. lets check"
   ]
  },
  {
   "cell_type": "code",
   "execution_count": null,
   "id": "9d5077f7",
   "metadata": {},
   "outputs": [],
   "source": [
    "#to check the current thread which is running\n",
    "import threading #\n",
    "\n",
    "thread=threading.current_thread().getName()\n",
    "\n",
    "a=10\n",
    "b=5\n",
    "c=a+b\n",
    "print(c)\n",
    "print(thread)"
   ]
  },
  {
   "cell_type": "code",
   "execution_count": null,
   "id": "8e8daf2c",
   "metadata": {},
   "outputs": [],
   "source": [
    "# create a thread without using class\n",
    "from threading import Thread\n",
    "\n",
    "def test(a,b):   #creating function and passing argument\n",
    "    print('thread is runnig',a+b)\n",
    "\n",
    "t1=Thread(target=test,args=(10,12))# now creating an object\n",
    "t2=Thread(target=test,args=(10,15))\n",
    "t1.start()  #staring the thread   \n",
    "t2.start()"
   ]
  },
  {
   "cell_type": "code",
   "execution_count": null,
   "id": "70e1a32e",
   "metadata": {},
   "outputs": [],
   "source": [
    "from threading import Thread\n",
    "\n",
    "def test(a):   #creating function\n",
    "    print('thread is runnig',a)\n",
    "    \n",
    "for i in range(10):\n",
    "    t1=Thread(target=test,args=(10,))\n",
    "    t1.start()"
   ]
  },
  {
   "cell_type": "code",
   "execution_count": null,
   "id": "a8bfb02a",
   "metadata": {},
   "outputs": [],
   "source": [
    "# create a thread without using class\n",
    "from threading import Thread\n",
    "\n",
    "def test(a,b):   #creating function\n",
    "    print('thread is runnig',a+b)\n",
    "\n",
    "t1=Thread(target=test,args=(10,12))# now creating an object\n",
    "t1.start()  #staring the thread   "
   ]
  },
  {
   "cell_type": "code",
   "execution_count": null,
   "id": "05eb43c4",
   "metadata": {},
   "outputs": [],
   "source": [
    "# set and get thread name\n",
    "from threading import Thread,current_thread\n",
    "\n",
    "def set_get():\n",
    "    print('Default child thread name',current_thread().getName())#getName() getting the thread name\n",
    "    current_thread().setName('my_thread')\n",
    "    print('new name of child thread',current_thread().getName())\n",
    "\n",
    "t1=Thread(target=set_get)#creating object\n",
    "t1.start()\n",
    "#-----------------------------------------------------------------------------------------------------------\n",
    "print('Default main thread name',current_thread().getName())#getName() getting the thread name\n",
    "current_thread().setName('UST')\n",
    "print('new name of main thread',current_thread().getName())\n"
   ]
  },
  {
   "cell_type": "code",
   "execution_count": null,
   "id": "7f93eedc",
   "metadata": {},
   "outputs": [],
   "source": [
    "# creating a thread by creating a child class to Thread class\n",
    "from threading import Thread \n",
    "class Mythread(Thread):\n",
    "    pass\n",
    "t=Mythread()\n",
    "print(t.name)"
   ]
  },
  {
   "cell_type": "code",
   "execution_count": null,
   "id": "0b3d206f",
   "metadata": {},
   "outputs": [],
   "source": [
    "from threading import Thread\n",
    "class Mythread(Thread):\n",
    "    def run(self):\n",
    "        for i in range(5):\n",
    "            print('child thread')\n",
    "\n",
    "t1=Mythread()\n",
    "t1.start()\n",
    "\n",
    "for i in range(5):\n",
    "    print(\"main thread\")"
   ]
  },
  {
   "cell_type": "code",
   "execution_count": null,
   "id": "04a9943e",
   "metadata": {},
   "outputs": [],
   "source": [
    "from threading import Thread\n",
    "class Mythread(Thread):\n",
    "    def run(self):\n",
    "        for i in range(5):\n",
    "            print('child thread')\n",
    "\n",
    "t1=Mythread()\n",
    "t1.start()\n",
    "t1.join()\n",
    "\n",
    "for i in range(5):\n",
    "    print(\"main thread\")"
   ]
  },
  {
   "cell_type": "code",
   "execution_count": null,
   "id": "b2d91157",
   "metadata": {},
   "outputs": [],
   "source": [
    "# thread with constructor\n",
    "from threading import *\n",
    "class Mythread(Thread): #creating child class and inherit parent class Thread\n",
    "    def __init__(self,a):  #creating constructor\n",
    "        Thread.__init__(self)  #calling Thread class constructo\n",
    "        self.a=a\n",
    "    def display(self):\n",
    "        print(\"childclass a\",self.a)\n",
    "        \n",
    "t=Mythread(10)\n",
    "t.display()\n",
    "t.start()"
   ]
  },
  {
   "cell_type": "code",
   "execution_count": null,
   "id": "2e0d3b7d",
   "metadata": {},
   "outputs": [],
   "source": [
    "# creating a thread without creating child class to thread class\n",
    "# from threading import Thread\n",
    "class Mythread:\n",
    "    def test(self,a,b):\n",
    "        c=a+b\n",
    "        print(\"sum of {0} and {1} is {2}\".format(a,b,c))\n",
    "obj=Mythread()\n",
    "# obj.test(5,6)\n",
    "t1=Thread(target=obj.test,args=(4,7))\n",
    "t2=Thread(target=obj.test,args=(15,45))\n",
    "t1.start()\n",
    "print(t1.name)\n",
    "t2.start()\n",
    "print(t2.name)"
   ]
  },
  {
   "cell_type": "code",
   "execution_count": null,
   "id": "34d4b016",
   "metadata": {},
   "outputs": [],
   "source": [
    "# for executing multiple task at a time we neen more than one thread.this process is called multithreading\n",
    "from threading import Thread\n",
    "class Hotel:\n",
    "    def __init__(self,t):\n",
    "        self.t=t\n",
    "    def food(self):\n",
    "        for i in range(1,11):  #number of table\n",
    "            print(self.t,i)\n",
    "h1=Hotel('Take order from table')\n",
    "h2=Hotel('Server order from table')\n",
    "t1=Thread(target=h1.food)\n",
    "t2=Thread(target=h2.food)\n",
    "t1.start()\n",
    "t2.start()"
   ]
  }
 ],
 "metadata": {
  "kernelspec": {
   "display_name": "Python 3 (ipykernel)",
   "language": "python",
   "name": "python3"
  },
  "language_info": {
   "codemirror_mode": {
    "name": "ipython",
    "version": 3
   },
   "file_extension": ".py",
   "mimetype": "text/x-python",
   "name": "python",
   "nbconvert_exporter": "python",
   "pygments_lexer": "ipython3",
   "version": "3.9.7"
  }
 },
 "nbformat": 4,
 "nbformat_minor": 5
}
