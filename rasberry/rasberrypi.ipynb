{
 "cells": [
  {
   "cell_type": "code",
   "execution_count": 2,
   "id": "cca14afd",
   "metadata": {},
   "outputs": [
    {
     "name": "stdout",
     "output_type": "stream",
     "text": [
      "25\n",
      "Hello world\n"
     ]
    }
   ],
   "source": [
    "a = 10\n",
    "b = 15\n",
    "c = a + b\n",
    "print(c)\n",
    "print(\"Hello world\")"
   ]
  },
  {
   "cell_type": "code",
   "execution_count": null,
   "id": "fdb1941f",
   "metadata": {},
   "outputs": [],
   "source": [
    "import RPi.GPIO as GPIO\n",
    "import time\n",
    "GPIO.setmode(GPIO.BCM)\n",
    "GPIO.setwarnings(False)\n",
    "GPIO.setup(2,GPIO.OUT)\n",
    "GPIO.output(2,GPIO.HIGH)\n",
    "print(\"LED ON\")"
   ]
  },
  {
   "cell_type": "code",
   "execution_count": null,
   "id": "a4848eae",
   "metadata": {},
   "outputs": [],
   "source": [
    "#led blink\n",
    "import RPi.GPIO as GPIO\n",
    "import time\n",
    "GPIO.setmode(GPIO.BCM)\n",
    "GPIO.setwarnings(False)\n",
    "GPIO.setup(2,GPIO.OUT)\n",
    "GPIO.setup(3,GPIO.OUT)\n",
    "while True:\n",
    "    GPIO.output(2,GPIO.HIGH)\n",
    "    GPIO.output(3,GPIO.HIGH)\n",
    "    time.sleep(0.5)\n",
    "    GPIO.output(2,GPIO.LOW)\n",
    "    GPIO.output(3,GPIO.LOW)\n",
    "    time.sleep(0.5)"
   ]
  },
  {
   "cell_type": "code",
   "execution_count": null,
   "id": "499c8036",
   "metadata": {},
   "outputs": [],
   "source": [
    "#IR SENSOR\n",
    "import RPi.GPIO as GPIO\n",
    "import time\n",
    "sensor = 3\n",
    "led=5\n",
    "buz=11\n",
    "GPIO.setwarnings(False)\n",
    "GPIO.setmode(GPIO.BOARD)\n",
    "GPIO.setup(sensor,GPIO.IN)\n",
    "GPIO.setup(led,GPIO.OUT)\n",
    "GPIO.setup(buz,GPIO.OUT)\n",
    "while True:\n",
    "    if GPIO.input(sensor):\n",
    "        GPIO.output(led,GPIO.LOW)\n",
    "        GPIO.output(buz,GPIO.LOW)\n",
    "    else:\n",
    "        GPIO.output(led,GPIO.HIGH)\n",
    "        GPIO.output(buz,GPIO.HIGH)\n",
    "        "
   ]
  },
  {
   "cell_type": "code",
   "execution_count": null,
   "id": "6d892ba2",
   "metadata": {},
   "outputs": [],
   "source": [
    "import Adafruit_DHT\n",
    "sensor = Adafruit_DHT.DHT11\n",
    "pin = 4\n",
    "while True:\n",
    "    humidity, temperature = Adafruit_DHT.read_retry(sensor, pin)\n",
    "    print('Temp={0:0.1f}*C  Humidity={1:0.1f}%'.format(temperature, humidity))\n",
    "if humidity is not None and temperature is not None:\n",
    "    print('Temp={0:0.1f}*C  Humidity={1:0.1f}%'.format(temperature, humidity))\n",
    "else:\n",
    "    print('Failed to get reading. Try again!')"
   ]
  },
  {
   "cell_type": "code",
   "execution_count": null,
   "id": "0f0587e5",
   "metadata": {},
   "outputs": [],
   "source": [
    "import RPi.GPIO as GPIO\n",
    "from time import sleep\n",
    "GPIO.setwarnings(False)\n",
    "GPIO.setmode(GPIO.BOARD)\n",
    "GPIO.setup(7, GPIO.OUT)\n",
    "pwm=GPIO.PWM(7, 50)\n",
    "pwm.start(0)\n",
    "def setAngle(angle):\n",
    "    duty = angle / 18 + 2\n",
    "    GPIO.output(7, True)\n",
    "    pwm.ChangeDutyCycle(duty)\n",
    "    sleep(1)\n",
    "    GPIO.output(7, False)\n",
    "    pwm.ChangeDutyCycle(0)\n",
    "setAngle(90)\n",
    "sleep(1)\n",
    "setAngle(45)\n",
    "sleep(0)\n",
    "setAngle(0)\n",
    "pwm.stop()\n",
    "GPIO.cleanup()"
   ]
  },
  {
   "cell_type": "code",
   "execution_count": null,
   "id": "49e7e317",
   "metadata": {},
   "outputs": [],
   "source": [
    "#camera\n",
    "from picamera import PiCamera\n",
    "from time import sleep\n",
    "\n",
    "camera = PiCamera()\n",
    "\n",
    "camera.start_preview()\n",
    "sleep(10)\n",
    "camera.capture('/home/pi/Desktop/img1.jpg')\n",
    "camera.stop_preview()\n",
    "camera.close()\n"
   ]
  }
 ],
 "metadata": {
  "kernelspec": {
   "display_name": "Python 3 (ipykernel)",
   "language": "python",
   "name": "python3"
  },
  "language_info": {
   "codemirror_mode": {
    "name": "ipython",
    "version": 3
   },
   "file_extension": ".py",
   "mimetype": "text/x-python",
   "name": "python",
   "nbconvert_exporter": "python",
   "pygments_lexer": "ipython3",
   "version": "3.9.7"
  }
 },
 "nbformat": 4,
 "nbformat_minor": 5
}
