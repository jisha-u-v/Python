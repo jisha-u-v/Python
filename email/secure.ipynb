{
 "cells": [
  {
   "cell_type": "code",
   "execution_count": null,
   "id": "39b68589",
   "metadata": {},
   "outputs": [],
   "source": [
    "import getpass  #for using get pass we have to import the library(inbuilt)\n",
    "c=getpass.getpass()\n",
    "print(c)"
   ]
  },
  {
   "cell_type": "code",
   "execution_count": null,
   "id": "81a93b55",
   "metadata": {},
   "outputs": [],
   "source": [
    "import getpass\n",
    "c=getpass.getpass(\"Enter your password: \")  #secure way\n",
    "# c=input(\"Enter your password: \")   #not secure\n",
    "if c=='ashish' or 'kumar' or 'ust' or 'bangalore':\n",
    "    print(\"password match\")\n",
    "else:\n",
    "    print(\"Incorrect password:\")"
   ]
  },
  {
   "cell_type": "code",
   "execution_count": null,
   "id": "38567527",
   "metadata": {},
   "outputs": [],
   "source": [
    "import smtplib\n",
    "with smtplib.SMTP('smtp.gmail.com',587)as smtp:\n",
    "    print(smtp.noop())  \n",
    "    print(smtp.helo())    \n",
    "    print(smtp.ehlo())"
   ]
  },
  {
   "cell_type": "code",
   "execution_count": null,
   "id": "67344100",
   "metadata": {},
   "outputs": [],
   "source": [
    "import smtplib\n",
    "smtp_object=smtplib.SMTP('smtp.gmail.com',587)\n",
    "print(smtp_object.starttls())"
   ]
  },
  {
   "cell_type": "code",
   "execution_count": null,
   "id": "d4212589",
   "metadata": {},
   "outputs": [],
   "source": [
    "import smtplib\n",
    "import getpass\n",
    "\n",
    "smtp_object=smtplib.SMTP('smtp.gmail.com',587)\n",
    "smtp_object.starttls()\n",
    "print('connected to tls')\n",
    "email=input(\"Enter your email:\")\n",
    "pasword=getpass.getpass(\"Enter your password:\") \n",
    "\n",
    "smtp_object.login(email,pasword)\n",
    "print('login successfull')\n",
    "smtp_object.quit()"
   ]
  },
  {
   "cell_type": "code",
   "execution_count": null,
   "id": "fd83808d",
   "metadata": {},
   "outputs": [],
   "source": [
    "import smtplib\n",
    "import getpass\n",
    "\n",
    "email=input(\"Enter your mail id:\")\n",
    "password=getpass.getpass(\"ENter your password:\")\n",
    "rec_mailid='ashishpython25@gmail.com' #or you can send mail to multiple id by creating list['abc@g.com','xyz@gmail.com']\n",
    "subject= 'Welcome Mail'\n",
    "body=\"Please click this link to get 5rs...\"\n",
    "msg=\"Subject: \"+subject+'\\n'+body\n",
    "\n",
    "obj=smtplib.SMTP('smtp.gmail.com',587)\n",
    "obj.starttls()\n",
    "obj.login(email,password)\n",
    "\n",
    "obj.sendmail(email,rec_mailid,msg)\n",
    "print(\"mail sent\")\n",
    "obj.quit()"
   ]
  },
  {
   "cell_type": "code",
   "execution_count": null,
   "id": "3f80ad2c",
   "metadata": {},
   "outputs": [],
   "source": [
    "import imaplib\n",
    "import getpass\n",
    "m=imaplib.IMAP4_SSL('imap.gmail.com')\n",
    "e='ashishprashar37@gmail.com'#input(\"Enter your email:\")\n",
    "p=getpass.getpass(\"Enter password:\")\n",
    "m.login(e,p)#okrmdingoypheskw\n",
    "print('login success')\n",
    "m.logout()\n",
    "print(\"logout success\")"
   ]
  },
  {
   "cell_type": "code",
   "execution_count": null,
   "id": "0ec3ae3d",
   "metadata": {},
   "outputs": [],
   "source": [
    "import imaplib\n",
    "import getpass\n",
    "m=imaplib.IMAP4_SSL('imap.gmail.com')\n",
    "e='ashishprashar37@gmail.com'#input(\"Enter your email:\")\n",
    "p=getpass.getpass(\"Enter password:\")\n",
    "m.login(e,p)#okrmdingoypheskw\n",
    "print('login success')\n",
    "print(m.list())\n",
    "m.logout()\n",
    "print(\"logout success\")"
   ]
  },
  {
   "cell_type": "code",
   "execution_count": null,
   "id": "e8f7d08d",
   "metadata": {},
   "outputs": [],
   "source": [
    "import imaplib\n",
    "import getpass\n",
    "m=imaplib.IMAP4_SSL('imap.gmail.com')\n",
    "e='ashishprashar37@gmail.com'#input(\"Enter your email:\")\n",
    "p=getpass.getpass(\"Enter password:\")\n",
    "m.login(e,p)#okrmdingoypheskw\n",
    "print('login success')\n",
    "print(m.select('INBOX'))#connect to inbox\n",
    "# m.search('')\n",
    "print(m.logout())\n",
    "print(\"logout success\")"
   ]
  },
  {
   "cell_type": "code",
   "execution_count": null,
   "id": "26ce3ae1",
   "metadata": {},
   "outputs": [],
   "source": [
    "import imaplib\n",
    "import getpass\n",
    "import email\n",
    "\n",
    "email_id='ashishprashar37@gmail.com'\n",
    "email_pass=getpass.getpass(\"Enter password: \")\n",
    "mail=imaplib.IMAP4_SSL('imap.gmail.com')\n",
    "mail.login(email_id,email_pass)\n",
    "mail.select('INBOX')\n",
    "# typ, data = mail.search(None, 'ALL')\n",
    "typ,data=mail.fetch(b'53','(RFC822)')\n",
    "msg=email.message_from_string(data[0][1].decode('utf-8'))\n",
    "for i in msg.walk():\n",
    "    print(i)"
   ]
  },
  {
   "cell_type": "code",
   "execution_count": null,
   "id": "a8ecbf9b",
   "metadata": {},
   "outputs": [],
   "source": [
    "import imaplib\n",
    "import email\n",
    "email_id='ashishprashar37@gmail.com'\n",
    "email_pass=getpass.getpass(\"Enter password: \")\n",
    "mail=imaplib.IMAP4_SSL('imap.gmail.com')#creating secure connection\n",
    "mail.login(email_id,email_pass)\n",
    "mail.select(\"inbox\")\n",
    "\n",
    "# ph,s_data=mail.search(None,'ALL')\n",
    "p_holder,s_data=mail.search(None,'UNSEEN')\n",
    "\n",
    "for i in s_data[0].split():\n",
    "    print(i)\n",
    "    p_holder,f_data=mail.fetch(i,'(RFC822)')\n",
    "    print(f_data)"
   ]
  },
  {
   "cell_type": "code",
   "execution_count": null,
   "id": "9714737a",
   "metadata": {},
   "outputs": [],
   "source": [
    "import imaplib\n",
    "import email\n",
    "import getpass\n",
    "email_id='ashishprashar37@gmail.com'\n",
    "email_pass=getpass.getpass(\"Enter password: \")\n",
    "mail=imaplib.IMAP4_SSL('imap.gmail.com')#creating secure connection\n",
    "mail.login(email_id,email_pass)\n",
    "mail.select(\"inbox\")\n",
    "\n",
    "# ph,s_data=mail.search(None,'ALL')\n",
    "p_holder,s_data=mail.search(None,'UNSEEN')\n",
    "\n",
    "for i in s_data[0].split():\n",
    "    p_holder,f_data=mail.fetch(i,'(RFC822)')\n",
    "    p_holder,exp_data=f_data[0]  #expaining data\n",
    "    print(exp_data)"
   ]
  },
  {
   "cell_type": "code",
   "execution_count": null,
   "id": "b03e27c5",
   "metadata": {},
   "outputs": [],
   "source": [
    "import imaplib\n",
    "import email\n",
    "import getpass\n",
    "email_id='ashishprashar37@gmail.com'\n",
    "email_pass=getpass.getpass(\"Enter password: \")\n",
    "mail=imaplib.IMAP4_SSL('imap.gmail.com')#creating secure connection\n",
    "mail.login(email_id,email_pass)\n",
    "mail.select(\"inbox\")\n",
    "\n",
    "# ph,s_data=mail.search(None,'ALL')\n",
    "p_holder,s_data=mail.search(None,'UNSEEN')\n",
    "\n",
    "for i in s_data[0].split():\n",
    "    p_holder,f_data=mail.fetch(i,'(RFC822)')\n",
    "    p_holder,exp_data=f_data[0]  #expaining data\n",
    "    email_msg=email.message_from_bytes(exp_data)\n",
    "    for j in email_msg.walk():\n",
    "        if j.get_content_type()==\"text/plain\":\n",
    "            body=j.get_payload()\n",
    "            print(body)"
   ]
  }
 ],
 "metadata": {
  "kernelspec": {
   "display_name": "Python 3 (ipykernel)",
   "language": "python",
   "name": "python3"
  },
  "language_info": {
   "codemirror_mode": {
    "name": "ipython",
    "version": 3
   },
   "file_extension": ".py",
   "mimetype": "text/x-python",
   "name": "python",
   "nbconvert_exporter": "python",
   "pygments_lexer": "ipython3",
   "version": "3.9.7"
  }
 },
 "nbformat": 4,
 "nbformat_minor": 5
}
