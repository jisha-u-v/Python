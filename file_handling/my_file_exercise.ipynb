{
 "cells": [
  {
   "cell_type": "code",
   "execution_count": 2,
   "id": "5ace8259",
   "metadata": {},
   "outputs": [
    {
     "name": "stdout",
     "output_type": "stream",
     "text": [
      "fname,lname,uid,location\n",
      "rajesh,aaaa,21596,bangalore\n",
      "puja,bbbb,21595,kolar\n",
      "umrah,cccc,21546,mysore\n",
      "anuj,ddddd,21578,nandihills\n",
      "ashish,eeee,21597,krpuram\n",
      "\n"
     ]
    }
   ],
   "source": [
    "import csv\n",
    "with open('1.csv') as i:\n",
    "   fread=i.read()\n",
    "   print(fread)"
   ]
  },
  {
   "cell_type": "code",
   "execution_count": 14,
   "id": "5aa72b58",
   "metadata": {},
   "outputs": [
    {
     "name": "stdout",
     "output_type": "stream",
     "text": [
      "['fname', 'lname', 'uid', 'location']\n",
      "['rajesh', 'aaaa', '21596', 'bangalore']\n",
      "['puja', 'bbbb', '21595', 'kolar']\n",
      "['umrah', 'cccc', '21546', 'mysore']\n",
      "['anuj', 'ddddd', '21578', 'nandihills']\n",
      "['ashish', 'eeee', '21597', 'krpuram']\n"
     ]
    }
   ],
   "source": [
    "import csv\n",
    "w = open('1.csv')\n",
    "read = csv.reader(w)\n",
    "for i in read :\n",
    "    print (i)\n",
    "\n"
   ]
  },
  {
   "cell_type": "code",
   "execution_count": 10,
   "id": "0893c20d",
   "metadata": {},
   "outputs": [
    {
     "name": "stdout",
     "output_type": "stream",
     "text": [
      "['fname', 'lname', 'uid', 'location']\n",
      "['rajesh', 'aaaa', '21596', 'bangalore']\n",
      "['puja', 'bbbb', '21595', 'kolar']\n",
      "['umrah', 'cccc', '21546', 'mysore']\n"
     ]
    }
   ],
   "source": [
    "#slicing - print a part of array\n",
    "w = open('1.csv')\n",
    "read = csv.reader(w)\n",
    "slice = list(read)\n",
    "#print(slice)\n",
    "#print(slice[1:5])\n",
    "for i in slice[:4] :\n",
    "    print(i)\n"
   ]
  },
  {
   "cell_type": "code",
   "execution_count": 14,
   "id": "1b5b73f8",
   "metadata": {},
   "outputs": [
    {
     "name": "stdout",
     "output_type": "stream",
     "text": [
      "6\n"
     ]
    }
   ],
   "source": [
    "# length of a file\n",
    "w = open('1.csv')\n",
    "read = csv.reader(w)\n",
    "sli = list(read)\n",
    "print (len(sli))"
   ]
  },
  {
   "cell_type": "code",
   "execution_count": 19,
   "id": "0660b2fa",
   "metadata": {},
   "outputs": [
    {
     "name": "stdout",
     "output_type": "stream",
     "text": [
      "['bangalore', 'kolar', 'mysore', 'nandihills', 'krpuram']\n"
     ]
    }
   ],
   "source": [
    "#append\n",
    "w = open('1.csv')\n",
    "read = csv.reader(w)\n",
    "sli = list(read)\n",
    "emp_list=[]\n",
    "for i in sli[1:] :\n",
    "    emp_list.append(i[3])\n",
    "print(emp_list)\n"
   ]
  },
  {
   "cell_type": "code",
   "execution_count": 22,
   "id": "f7cf7b97",
   "metadata": {},
   "outputs": [
    {
     "name": "stdout",
     "output_type": "stream",
     "text": [
      "['rajesh aaaa', 'puja bbbb', 'umrah cccc', 'anuj ddddd', 'ashish eeee']\n"
     ]
    }
   ],
   "source": [
    "#full name appending\n",
    "w= open('1.csv')\n",
    "read = csv.reader(w)\n",
    "slicng = list(read)\n",
    "full_name = []\n",
    "for i in sli[1:]:\n",
    "    full_name.append(i[0]+' '+i[1])\n",
    "print(full_name)"
   ]
  },
  {
   "cell_type": "code",
   "execution_count": 28,
   "id": "9e4955ef",
   "metadata": {},
   "outputs": [],
   "source": [
    "#writing to a file\n",
    "with open('csv_w.csv','w')as w:          #check the pwd file is there or not\n",
    "    x=csv.writer(w)\n",
    "    x.writerow(['pyhton','java','R','sita'])\n",
    "    x.writerows([['a','b','c'],['d','e','f']])\n",
    "    \n"
   ]
  },
  {
   "cell_type": "code",
   "execution_count": null,
   "id": "21a8d942",
   "metadata": {},
   "outputs": [],
   "source": [
    "import PyPDF2\n",
    "# from PyPDF2 import PdfFileReader\n",
    "with open('WBP.pdf','rb')as pdf_handle:\n",
    "    pdf_reader=PyPDF2.PdfFileReader(pdf_handle)"
   ]
  },
  {
   "cell_type": "code",
   "execution_count": 15,
   "id": "2e719643",
   "metadata": {},
   "outputs": [
    {
     "ename": "NameError",
     "evalue": "name 'PyPDF2' is not defined",
     "output_type": "error",
     "traceback": [
      "\u001b[1;31m---------------------------------------------------------------------------\u001b[0m",
      "\u001b[1;31mNameError\u001b[0m                                 Traceback (most recent call last)",
      "\u001b[1;32m~\\AppData\\Local\\Temp/ipykernel_2324/1385505048.py\u001b[0m in \u001b[0;36m<module>\u001b[1;34m\u001b[0m\n\u001b[0;32m      1\u001b[0m \u001b[1;32mwith\u001b[0m \u001b[0mopen\u001b[0m\u001b[1;33m(\u001b[0m\u001b[1;34m'WBP.pdf'\u001b[0m\u001b[1;33m,\u001b[0m\u001b[1;34m'rb'\u001b[0m\u001b[1;33m)\u001b[0m\u001b[1;32mas\u001b[0m \u001b[0mpdf_handle\u001b[0m\u001b[1;33m:\u001b[0m\u001b[1;33m\u001b[0m\u001b[1;33m\u001b[0m\u001b[0m\n\u001b[1;32m----> 2\u001b[1;33m     \u001b[0mpdf_reader\u001b[0m\u001b[1;33m=\u001b[0m\u001b[0mPyPDF2\u001b[0m\u001b[1;33m.\u001b[0m\u001b[0mPdfFileReader\u001b[0m\u001b[1;33m(\u001b[0m\u001b[0mpdf_handle\u001b[0m\u001b[1;33m)\u001b[0m\u001b[1;33m\u001b[0m\u001b[1;33m\u001b[0m\u001b[0m\n\u001b[0m\u001b[0;32m      3\u001b[0m     \u001b[0mpage\u001b[0m\u001b[1;33m=\u001b[0m\u001b[0mpdf_reader\u001b[0m\u001b[1;33m.\u001b[0m\u001b[0mnumPages\u001b[0m   \u001b[1;31m#numPages is used to find no of pages present in the pdf\u001b[0m\u001b[1;33m\u001b[0m\u001b[1;33m\u001b[0m\u001b[0m\n\u001b[0;32m      4\u001b[0m     \u001b[0mprint\u001b[0m\u001b[1;33m(\u001b[0m\u001b[0mpage\u001b[0m\u001b[1;33m)\u001b[0m\u001b[1;33m\u001b[0m\u001b[1;33m\u001b[0m\u001b[0m\n",
      "\u001b[1;31mNameError\u001b[0m: name 'PyPDF2' is not defined"
     ]
    }
   ],
   "source": [
    "with open('WBP.pdf','rb')as pdf_handle:\n",
    "    pdf_reader=PyPDF2.PdfFileReader(pdf_handle)\n",
    "    page=pdf_reader.numPages   #numPages is used to find no of pages present in the pdf\n",
    "    print(page)"
   ]
  },
  {
   "cell_type": "code",
   "execution_count": 2,
   "id": "d4a461c4",
   "metadata": {},
   "outputs": [
    {
     "name": "stdout",
     "output_type": "stream",
     "text": [
      "Collecting pypdf2\n",
      "  Using cached PyPDF2-1.26.0.tar.gz (77 kB)\n",
      "Building wheels for collected packages: pypdf2\n",
      "  Building wheel for pypdf2 (setup.py): started\n",
      "  Building wheel for pypdf2 (setup.py): finished with status 'done'\n",
      "  Created wheel for pypdf2: filename=PyPDF2-1.26.0-py3-none-any.whl size=61101 sha256=409baca9855f1d1601c4088417cacfc24626c98ca9098d4438c2794cbde3dfe5\n",
      "  Stored in directory: c:\\users\\user\\appdata\\local\\pip\\cache\\wheels\\d9\\dc\\ec\\72da68331f30074b9950c1737c23cb8a67484e61498bc9713d\n",
      "Successfully built pypdf2\n",
      "Installing collected packages: pypdf2\n",
      "Successfully installed pypdf2-1.26.0\n",
      "Note: you may need to restart the kernel to use updated packages.\n"
     ]
    }
   ],
   "source": []
  },
  {
   "cell_type": "code",
   "execution_count": 1,
   "id": "bdd6f0b5",
   "metadata": {},
   "outputs": [],
   "source": [
    "# from PyPDF2 import PdfFileReader\n",
    "import PyPDF2\n",
    "# creating a pdf file object\n",
    "with open('WBP.pdf','rb')as pdf_handle:\n",
    "    # creating a pdf reader object\n",
    "    pdf_reader=PyPDF2.PdfFileReader(pdf_handle)"
   ]
  },
  {
   "cell_type": "code",
   "execution_count": 2,
   "id": "1a0f5141",
   "metadata": {},
   "outputs": [
    {
     "name": "stdout",
     "output_type": "stream",
     "text": [
      "5\n"
     ]
    }
   ],
   "source": [
    "with open('WBP.pdf','rb')as pdf_handle:\n",
    "    pdf_reader=PyPDF2.PdfFileReader(pdf_handle)\n",
    "    page=pdf_reader.numPages   #numPages is used to find no of pages present in the pdf\n",
    "    print(page)"
   ]
  },
  {
   "cell_type": "code",
   "execution_count": 6,
   "id": "0c561df8",
   "metadata": {},
   "outputs": [
    {
     "name": "stdout",
     "output_type": "stream",
     "text": [
      "applications. Quickly drive clicks-and-mortar catalysts for change before \n",
      "vertical architectures. \n",
      "Credibly reintermediate backend ideas for cross-platform models. \n",
      "Continually reintermediate integrated processes through technically sound \n",
      "intellectual capital. Holistically foster superior methodologies without \n",
      "market-driven best practices. Distinctively exploit optimal alignments for intuitive bandwidth. Quickly \n",
      "coordinate e-business applications through revolutionary catalysts for \n",
      "change. Seamlessly underwhelm optimal testing procedures whereas \n",
      "bricks-and-clicks processes. \n",
      "Synergistically evolve 2.0 technologies rather than just in time initiatives. \n",
      "Quickly deploy strategic networks with compelling e-business. Credibly \n",
      "pontiÞcate highly efÞcient manufactured products and enabled data. \n",
      "Dynamically target high-payoff intellectual capital for customized \n",
      "technologies. Objectively integrate emerging core competencies before \n",
      "process-centric communities. Dramatically evisculate holistic innovation \n",
      "rather than client-centric data. Progressively maintain extensive infomediaries via extensible niches. \n",
      "Dramatically disseminate standardized metrics after resource-leveling \n",
      "processes. Objectively pursue diverse catalysts for change for \n",
      "interoperable meta-services. \n",
      "Proactively fabricate one-to-one materials via effective e-business. \n",
      "Completely synergize scalable e-commerce rather than high standards in \n",
      "e-services. Assertively iterate resource maximizing products after leading-\n",
      "edge intellectual capital. Distinctively re-engineer revolutionary meta-services and premium \n",
      "architectures. Intrinsically incubate intuitive opportunities and real-time \n",
      "potentialities. Appropriately communicate one-to-one technology after \n",
      "plug-and-play networks. Quickly aggregate B2B users and worldwide potentialities. Progressively \n",
      "plagiarize resource-leveling e-commerce through resource-leveling core \n",
      "BUSINESS PROPOSAL\n",
      "!3\n"
     ]
    }
   ],
   "source": [
    "import PyPDF2\n",
    "# from PyPDF2 import PdfFileReader\n",
    "with open('WBP.pdf','rb')as pdf_handle:\n",
    "    pdf_reader=PyPDF2.PdfFileReader(pdf_handle)\n",
    "    page_one=pdf_reader.getPage(2)#assigning page number\n",
    "    ex_text=page_one.extractText()#extracting text for assigned page no\n",
    "    print(ex_text)"
   ]
  },
  {
   "cell_type": "code",
   "execution_count": 12,
   "id": "4e85e9bd",
   "metadata": {},
   "outputs": [],
   "source": [
    "#     copy pages and append pages to new pdf\n",
    "import PyPDF2\n",
    "with open('WBP.pdf','rb')as pdf_handle:\n",
    "    pdf_reader = PyPDF2.PdfFileReader(pdf_handle)\n",
    "    page_one=pdf_reader.getPage(2)\n",
    "    pdf_writer=PyPDF2.PdfFileWriter()\n",
    "    pdf_writer.addPage(page_one)\n",
    "    pdf_output= open('new11.pdf','wb')\n",
    "    pdf_writer.write(pdf_output)\n",
    "    pdf_output.close\n",
    "\n"
   ]
  },
  {
   "cell_type": "code",
   "execution_count": 19,
   "id": "32765c00",
   "metadata": {},
   "outputs": [],
   "source": [
    "import PyPDF2\n",
    "with open('WBP.pdf','rb') as pdf_handle :\n",
    "    pdf_reader = PyPDF2.PdfFileReader(pdf_handle)\n",
    "    f = open('WBP.pdf','rb')\n",
    "    text = []\n",
    "    for i in range(pdf_reader.numPages):\n",
    "        page = pdf_reader.getPage(i)    \n",
    "        text.append(page.extractText())\n",
    "        #print(text)#prin all text\n",
    "        #print(text[0])#perticular page\n",
    "        "
   ]
  },
  {
   "cell_type": "code",
   "execution_count": 11,
   "id": "ec48de28",
   "metadata": {},
   "outputs": [
    {
     "ename": "SyntaxError",
     "evalue": "(unicode error) 'unicodeescape' codec can't decode bytes in position 2-3: truncated \\UXXXXXXXX escape (Temp/ipykernel_2324/3097727511.py, line 2)",
     "output_type": "error",
     "traceback": [
      "\u001b[1;36m  File \u001b[1;32m\"C:\\Users\\user\\AppData\\Local\\Temp/ipykernel_2324/3097727511.py\"\u001b[1;36m, line \u001b[1;32m2\u001b[0m\n\u001b[1;33m    path = \"C:\\Users\\user\\Desktop\\test.csv\"\u001b[0m\n\u001b[1;37m                                           ^\u001b[0m\n\u001b[1;31mSyntaxError\u001b[0m\u001b[1;31m:\u001b[0m (unicode error) 'unicodeescape' codec can't decode bytes in position 2-3: truncated \\UXXXXXXXX escape\n"
     ]
    }
   ],
   "source": [
    "import os\n",
    "path = \"C:\\Users\\user\\Desktop\\test.csv\"\n",
    "file=open(path, \"r\")"
   ]
  },
  {
   "cell_type": "code",
   "execution_count": 13,
   "id": "d80df539",
   "metadata": {},
   "outputs": [
    {
     "name": "stdout",
     "output_type": "stream",
     "text": [
      "[['fname', 'lname', 'uid', 'location'], ['rajesh', 'aaaa', '21596', 'bangalore'], ['puja', 'bbbb', '21595', 'kolar'], ['umrah', 'cccc', '21546', 'mysore'], ['anuj', 'ddddd', '21578', 'nandihills'], ['ashish', 'eeee', '21597', 'krpuram']]\n"
     ]
    }
   ],
   "source": [
    "import csv\n",
    "data = open(r\"C:\\Users\\user\\Desktop\\test.csv\")\n",
    "data = csv.reader(data)  \n",
    "new_dat = list(data)\n",
    "print(new_dat)"
   ]
  },
  {
   "cell_type": "code",
   "execution_count": null,
   "id": "3cd6a5bc",
   "metadata": {},
   "outputs": [],
   "source": []
  }
 ],
 "metadata": {
  "kernelspec": {
   "display_name": "Python 3 (ipykernel)",
   "language": "python",
   "name": "python3"
  },
  "language_info": {
   "codemirror_mode": {
    "name": "ipython",
    "version": 3
   },
   "file_extension": ".py",
   "mimetype": "text/x-python",
   "name": "python",
   "nbconvert_exporter": "python",
   "pygments_lexer": "ipython3",
   "version": "3.9.7"
  }
 },
 "nbformat": 4,
 "nbformat_minor": 5
}
